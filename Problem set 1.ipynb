{
 "cells": [
  {
   "cell_type": "markdown",
   "id": "2aa7465f",
   "metadata": {},
   "source": [
    "# Question 1"
   ]
  },
  {
   "cell_type": "code",
   "execution_count": 10,
   "id": "5797d6c9",
   "metadata": {},
   "outputs": [],
   "source": [
    "# Use function type() to find data type\n",
    "# 5 integer\n",
    "# 5.0 float\n",
    "# 5 > 1 bool\n",
    "# '5' string\n",
    "# 5 * 2 integer\n",
    "# '5' * 2 string\n",
    "# '5' + '2' string\n",
    "# 5/2 integer\n",
    "# 5%2 integer\n",
    "# {5,2,1} set\n",
    "# 5 == 3 bool\n",
    "# Pi float"
   ]
  },
  {
   "cell_type": "markdown",
   "id": "5bfee91d",
   "metadata": {},
   "source": [
    "# Question 2"
   ]
  },
  {
   "cell_type": "code",
   "execution_count": 37,
   "id": "189ddb86",
   "metadata": {},
   "outputs": [
    {
     "data": {
      "text/plain": [
       "34"
      ]
     },
     "execution_count": 37,
     "metadata": {},
     "output_type": "execute_result"
    }
   ],
   "source": [
    "word1 = 'Supercalifragilisticexpialidocious'\n",
    "len(word1)"
   ]
  },
  {
   "cell_type": "code",
   "execution_count": 38,
   "id": "2f7eca82",
   "metadata": {},
   "outputs": [
    {
     "name": "stdout",
     "output_type": "stream",
     "text": [
      "True\n"
     ]
    }
   ],
   "source": [
    "if 'ice' in word1:\n",
    "    print(\"True\")\n",
    "else:\n",
    "    print(\"False\")"
   ]
  },
  {
   "cell_type": "code",
   "execution_count": 39,
   "id": "21244fea",
   "metadata": {},
   "outputs": [
    {
     "name": "stdout",
     "output_type": "stream",
     "text": [
      "Bababadalgharaghtakamminarronnkonn is longest word\n"
     ]
    }
   ],
   "source": [
    "word2 = 'Honorificabilitudinitatibus'\n",
    "word3 = 'Bababadalgharaghtakamminarronnkonn'\n",
    "\n",
    "if len(word) > len(word1) and len(word) > len(word2):\n",
    "    print('Supercalifragilisticexpialidocious is longest word')\n",
    "    \n",
    "elif len(word2) > len(word) and len(word2) > len(word3):\n",
    "    print('Honorificabilitudinitatibus is longest word')\n",
    "    \n",
    "else:\n",
    "    print('Bababadalgharaghtakamminarronnkonn is longest word')"
   ]
  },
  {
   "cell_type": "markdown",
   "id": "1941f39e",
   "metadata": {},
   "source": [
    "# Question 3"
   ]
  },
  {
   "cell_type": "code",
   "execution_count": 40,
   "id": "c691237f",
   "metadata": {},
   "outputs": [
    {
     "name": "stdout",
     "output_type": "stream",
     "text": [
      "Enter side a of triangle: 2\n",
      "enter side b of triangle: 2\n",
      "Enter side c of triangle: 2\n"
     ]
    },
    {
     "ename": "NameError",
     "evalue": "name 'math' is not defined",
     "output_type": "error",
     "traceback": [
      "\u001b[1;31m---------------------------------------------------------------------------\u001b[0m",
      "\u001b[1;31mNameError\u001b[0m                                 Traceback (most recent call last)",
      "Input \u001b[1;32mIn [40]\u001b[0m, in \u001b[0;36m<cell line: 10>\u001b[1;34m()\u001b[0m\n\u001b[0;32m      7\u001b[0m     area \u001b[38;5;241m=\u001b[39m math\u001b[38;5;241m.\u001b[39msqrt(s(s\u001b[38;5;241m-\u001b[39ma)\u001b[38;5;241m*\u001b[39m(s\u001b[38;5;241m-\u001b[39mb)\u001b[38;5;241m*\u001b[39m(s\u001b[38;5;241m-\u001b[39mc))\n\u001b[0;32m      8\u001b[0m     \u001b[38;5;28mprint\u001b[39m(\u001b[38;5;124m\"\u001b[39m\u001b[38;5;124mArea of triangle:\u001b[39m\u001b[38;5;124m\"\u001b[39m, area)\n\u001b[1;32m---> 10\u001b[0m \u001b[43mtriangleArea\u001b[49m\u001b[43m(\u001b[49m\u001b[43ma\u001b[49m\u001b[43m,\u001b[49m\u001b[43mb\u001b[49m\u001b[43m,\u001b[49m\u001b[43mc\u001b[49m\u001b[43m)\u001b[49m\n",
      "Input \u001b[1;32mIn [40]\u001b[0m, in \u001b[0;36mtriangleArea\u001b[1;34m(a, b, c)\u001b[0m\n\u001b[0;32m      5\u001b[0m \u001b[38;5;28;01mdef\u001b[39;00m \u001b[38;5;21mtriangleArea\u001b[39m(a,b,c):\n\u001b[0;32m      6\u001b[0m     s \u001b[38;5;241m=\u001b[39m (a\u001b[38;5;241m+\u001b[39mb\u001b[38;5;241m+\u001b[39mc)\u001b[38;5;241m/\u001b[39m\u001b[38;5;241m2\u001b[39m\n\u001b[1;32m----> 7\u001b[0m     area \u001b[38;5;241m=\u001b[39m \u001b[43mmath\u001b[49m\u001b[38;5;241m.\u001b[39msqrt(s(s\u001b[38;5;241m-\u001b[39ma)\u001b[38;5;241m*\u001b[39m(s\u001b[38;5;241m-\u001b[39mb)\u001b[38;5;241m*\u001b[39m(s\u001b[38;5;241m-\u001b[39mc))\n\u001b[0;32m      8\u001b[0m     \u001b[38;5;28mprint\u001b[39m(\u001b[38;5;124m\"\u001b[39m\u001b[38;5;124mArea of triangle:\u001b[39m\u001b[38;5;124m\"\u001b[39m, area)\n",
      "\u001b[1;31mNameError\u001b[0m: name 'math' is not defined"
     ]
    }
   ],
   "source": [
    "a = int(input('Enter side a of triangle: '))\n",
    "b = int(input(\"enter side b of triangle: \"))\n",
    "c = int(input('Enter side c of triangle: '))\n",
    "\n",
    "def triangleArea(a,b,c):\n",
    "    s = (a+b+c)/2\n",
    "    area = math.sqrt(s(s-a)*(s-b)*(s-c))\n",
    "    print(\"Area of triangle:\", area)\n",
    "    \n",
    "triangleArea(a,b,c) ####### problem!!"
   ]
  },
  {
   "cell_type": "markdown",
   "id": "11dd4114",
   "metadata": {},
   "source": [
    "# Question 4"
   ]
  },
  {
   "cell_type": "code",
   "execution_count": 31,
   "id": "8885c77e",
   "metadata": {},
   "outputs": [
    {
     "ename": "SyntaxError",
     "evalue": "invalid syntax (1564812083.py, line 2)",
     "output_type": "error",
     "traceback": [
      "\u001b[1;36m  Input \u001b[1;32mIn [31]\u001b[1;36m\u001b[0m\n\u001b[1;33m    list = [ele0, ele1, ele2, ele3, ele4]\u001b[0m\n\u001b[1;37m    ^\u001b[0m\n\u001b[1;31mSyntaxError\u001b[0m\u001b[1;31m:\u001b[0m invalid syntax\n"
     ]
    }
   ],
   "source": [
    "ele0, ele1, ele2, ele3, ele4 = map(int(input(\"Enter 5 elements\").split()) # not working!!!!!!!!!!\n",
    "list = [ele0, ele1, ele2, ele3, ele4]\n",
    "listEven = []\n",
    "listOdd = []\n",
    "                                   \n",
    "for i in list:\n",
    "    if i%2 == 0:\n",
    "    listEven.append(i)\n",
    "    print('Number in even: ', i)\n",
    "\n",
    "else:\n",
    "    listOdd.append(i)\n",
    "                                   \n",
    "print('The even elements are: ', listEven)\n",
    "print('The odd elements are: ', listOdd)                                   "
   ]
  },
  {
   "cell_type": "markdown",
   "id": "90d3ab32",
   "metadata": {},
   "source": [
    "# Question 5"
   ]
  },
  {
   "cell_type": "code",
   "execution_count": null,
   "id": "0bdb445c",
   "metadata": {},
   "outputs": [],
   "source": []
  },
  {
   "cell_type": "markdown",
   "id": "0c7717c2",
   "metadata": {},
   "source": [
    "# Question 6"
   ]
  },
  {
   "cell_type": "code",
   "execution_count": 35,
   "id": "44a61f6d",
   "metadata": {},
   "outputs": [
    {
     "ename": "SyntaxError",
     "evalue": "invalid syntax (820999802.py, line 7)",
     "output_type": "error",
     "traceback": [
      "\u001b[1;36m  Input \u001b[1;32mIn [35]\u001b[1;36m\u001b[0m\n\u001b[1;33m    if list[0] == 'a' or list[0] == 'e' or list[0] == 'i' or list[0] == 'o' or list[0] == 'u'\u001b[0m\n\u001b[1;37m                                                                                             ^\u001b[0m\n\u001b[1;31mSyntaxError\u001b[0m\u001b[1;31m:\u001b[0m invalid syntax\n"
     ]
    }
   ],
   "source": [
    "list = []\n",
    "listNew = []\n",
    "s = input('Enter string word')\n",
    "for i in s:\n",
    "    list.append(i)\n",
    "    \n",
    "if list[0] == 'a' or list[0] == 'e' or list[0] == 'i' or list[0] == 'o' or list[0] == 'u'\n",
    "    list.append('way')\n",
    "    \n",
    "else:\n",
    "\n",
    " list.append(list[0])\n",
    " list.pop(0)\n",
    " list.append('ay')\n",
    " print('Pig latin conversion complete')\n",
    "\n",
    "string = ''.join([str(item) for item in list])\n",
    "print(' The string in pig latin is: ', string)\n",
    "\n"
   ]
  },
  {
   "cell_type": "code",
   "execution_count": 44,
   "id": "e2aff866",
   "metadata": {},
   "outputs": [
    {
     "ename": "SyntaxError",
     "evalue": "invalid syntax (3603601694.py, line 7)",
     "output_type": "error",
     "traceback": [
      "\u001b[1;36m  Input \u001b[1;32mIn [44]\u001b[1;36m\u001b[0m\n\u001b[1;33m    if listNew[0] == 'a' or list[0] == 'e' or list[0] == 'i' or list[0] == 'o' or list[0] == 'u'\u001b[0m\n\u001b[1;37m                                                                                                ^\u001b[0m\n\u001b[1;31mSyntaxError\u001b[0m\u001b[1;31m:\u001b[0m invalid syntax\n"
     ]
    }
   ],
   "source": [
    "listNew = []\n",
    "\n",
    "def pigLatin(s):\n",
    "    for i in s:\n",
    "        listNew.append(i)\n",
    "        \n",
    "    if listNew[0] == 'a' or list[0] == 'e' or list[0] == 'i' or list[0] == 'o' or list[0] == 'u'\n",
    "        print('String starts with a vowel')\n",
    "        listNew.append('way')\n",
    "        \n",
    "    else:\n",
    "        print('String starts with a consonant')\n",
    "        listNew.append(listNew[0])\n",
    "        listNew.pop(0)\n",
    "        listNew.append('ay')\n",
    "    print('Conversion is complete')\n",
    "\n",
    "stringNew = ''.join([str(itemNew) for itemNew in listNew)\n",
    "print(\"String in Latin is: \", stringNew)\n",
    "listNew.clear() # Problem!!!!!!!!!!!!!!!!!!!!!!1\n",
    "                     \n",
    "\n",
    "pigLatin(s)"
   ]
  },
  {
   "cell_type": "code",
   "execution_count": 43,
   "id": "3d199519",
   "metadata": {},
   "outputs": [
    {
     "name": "stdout",
     "output_type": "stream",
     "text": [
      "Enter string: cow\n"
     ]
    },
    {
     "ename": "NameError",
     "evalue": "name 'pigLatin' is not defined",
     "output_type": "error",
     "traceback": [
      "\u001b[1;31m---------------------------------------------------------------------------\u001b[0m",
      "\u001b[1;31mNameError\u001b[0m                                 Traceback (most recent call last)",
      "Input \u001b[1;32mIn [43]\u001b[0m, in \u001b[0;36m<cell line: 2>\u001b[1;34m()\u001b[0m\n\u001b[0;32m      1\u001b[0m s \u001b[38;5;241m=\u001b[39m \u001b[38;5;28minput\u001b[39m(\u001b[38;5;124m'\u001b[39m\u001b[38;5;124mEnter string: \u001b[39m\u001b[38;5;124m'\u001b[39m)\n\u001b[1;32m----> 2\u001b[0m \u001b[43mpigLatin\u001b[49m(s)\n",
      "\u001b[1;31mNameError\u001b[0m: name 'pigLatin' is not defined"
     ]
    }
   ],
   "source": []
  },
  {
   "cell_type": "code",
   "execution_count": null,
   "id": "c1fd33a3",
   "metadata": {},
   "outputs": [],
   "source": []
  }
 ],
 "metadata": {
  "kernelspec": {
   "display_name": "Python 3 (ipykernel)",
   "language": "python",
   "name": "python3"
  },
  "language_info": {
   "codemirror_mode": {
    "name": "ipython",
    "version": 3
   },
   "file_extension": ".py",
   "mimetype": "text/x-python",
   "name": "python",
   "nbconvert_exporter": "python",
   "pygments_lexer": "ipython3",
   "version": "3.9.12"
  }
 },
 "nbformat": 4,
 "nbformat_minor": 5
}
